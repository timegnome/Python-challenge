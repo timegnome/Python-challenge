{
 "cells": [
  {
   "cell_type": "code",
   "execution_count": 26,
   "metadata": {},
   "outputs": [
    {
     "name": "stdout",
     "output_type": "stream",
     "text": [
      "Financial Analysis\n",
      "----------------------------\n",
      "Total Months: $86\n",
      "Total: $38382578\n",
      "Average Change: 2315.12\n",
      "Greatest Increase in Profits: Feb-2012 $(1926159)\n",
      "Greatest Decrease in Profits: Sep-2013 $(-2196167)\n"
     ]
    }
   ],
   "source": [
    "import os\n",
    "import csv\n",
    "# Create variables for desired information\n",
    "months = []\n",
    "totalPr_Ls =0\n",
    "greatestInc =['',0]\n",
    "greatestDec =['',0]\n",
    "# Create path and open csvfile for the data\n",
    "csvpath = os.path.join('Resources','budget_data.csv')\n",
    "with open(csvpath) as csvfile:\n",
    "    csvreader = csv.reader(csvfile, delimiter =',')\n",
    "    csv_header = next(csvreader)\n",
    "#     print(csv_header)\n",
    "    prvRow = ['',0]\n",
    "#     Loop through the csvfile rows \n",
    "    for row in csvreader:\n",
    "        if not(months):\n",
    "            first = row[1]\n",
    "#             months = set(months)\n",
    "#             months.add(date[0])\n",
    "#         elif  date[0] not in months:\n",
    "#       Collect the data for the files and update them each iteration\n",
    "        date = csv_header[0].split('-')\n",
    "        months.append(date[0])\n",
    "        totalPr_Ls += int(row[1])\n",
    "        percChng = int(row[1]) -  int(prvRow[1])\n",
    "        prvRow = row\n",
    "#         Check if the any changes to \n",
    "        if percChng> greatestInc[1]:\n",
    "            greatestInc = [row[0],percChng]\n",
    "        if percChng< greatestDec[1]:\n",
    "            greatestDec = [row[0],percChng]\n",
    "#    Create Path name to file\n",
    "    output_path = os.path.join(\"Analysis\",\"Bank_Analysis.txt\")\n",
    "    # Open the file using \"write\" mode. Specify the variable to hold the contents\n",
    "    with open(output_path, 'w') as datafile:\n",
    "#       Print to terminal and file\n",
    "        datafile.write(\"Financial Analysis\\n----------------------------\")\n",
    "        print(\"Financial Analysis\\n----------------------------\")\n",
    "        datafile.write(f'Total Months: ${len(months)}')\n",
    "        print(f'Total Months: ${len(months)}')\n",
    "        datafile.write(f'Total: ${totalPr_Ls}')\n",
    "        print(f'Total: ${totalPr_Ls}')\n",
    "        datafile.write(f'Average Change: {round((int(first)-int(row[1]))/(len(months)-1),2)}')\n",
    "        print(f'Average Change: {round((int(first)-int(row[1]))/(len(months)-1),2)}')\n",
    "        datafile.write(f'Greatest Increase in Profits: {greatestInc[0]} $({greatestInc[1]})')\n",
    "        print(f'Greatest Increase in Profits: {greatestInc[0]} $({greatestInc[1]})')\n",
    "        datafile.write(f'Greatest Decrease in Profits: {greatestDec[0]} $({greatestDec[1]})')\n",
    "        print(f'Greatest Decrease in Profits: {greatestDec[0]} $({greatestDec[1]})')\n",
    "\n"
   ]
  }
 ],
 "metadata": {
  "kernelspec": {
   "display_name": "Python 3",
   "language": "python",
   "name": "python3"
  },
  "language_info": {
   "codemirror_mode": {
    "name": "ipython",
    "version": 3
   },
   "file_extension": ".py",
   "mimetype": "text/x-python",
   "name": "python",
   "nbconvert_exporter": "python",
   "pygments_lexer": "ipython3",
   "version": "3.7.6"
  }
 },
 "nbformat": 4,
 "nbformat_minor": 4
}
