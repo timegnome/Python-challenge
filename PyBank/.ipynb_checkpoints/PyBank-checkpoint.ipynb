{
 "cells": [
  {
   "cell_type": "code",
   "execution_count": 7,
   "metadata": {},
   "outputs": [
    {
     "name": "stdout",
     "output_type": "stream",
     "text": [
      "['Date', 'Profit/Losses']\n",
      "['Jan-2010', '867884']\n",
      "{'Jan'}\n"
     ]
    }
   ],
   "source": [
    "import os\n",
    "import csv\n",
    "\n",
    "csvpath = os.path.join('Resources','budget_data.csv')\n",
    "months = []\n",
    "totalPr_Ls =0\n",
    "greatestInc =['',0]\n",
    "greatestDec =['',0]\n",
    "with open(csvpath) as csvfile:\n",
    "    csvreader = csv.reader(csvfile, delimiter =',')\n",
    "    csv_header = next(csvreader)\n",
    "    print(csv_header)\n",
    "    csv_header = next(csvreader)\n",
    "    print(csv_header)\n",
    "    prv = csv_header\n",
    "    date = csv_header[0].split('-')\n",
    "    if not(months):\n",
    "        months = set(months)\n",
    "        months.add(date[0])\n",
    "    elif  date[0] not in months:\n",
    "        months.add(date[0])\n",
    "    totalPr_Ls += int(csv_header[1])\n",
    "    if csv_header[1]-  prv[1]> greatestInc[1]:\n",
    "        greatestInc = [csv_header[0],csv_header- pre]\n",
    "    if csv_header[1]-  prv[1]< greatestDec[1]:\n",
    "        greatestDecc = [csv_header[0],csv_header]\n",
    "    print(totalPr_Ls/len(months))\n",
    "    print(months)\n",
    "    "
   ]
  },
  {
   "cell_type": "code",
   "execution_count": null,
   "metadata": {},
   "outputs": [],
   "source": []
  }
 ],
 "metadata": {
  "kernelspec": {
   "display_name": "Python 3",
   "language": "python",
   "name": "python3"
  },
  "language_info": {
   "codemirror_mode": {
    "name": "ipython",
    "version": 3
   },
   "file_extension": ".py",
   "mimetype": "text/x-python",
   "name": "python",
   "nbconvert_exporter": "python",
   "pygments_lexer": "ipython3",
   "version": "3.7.6"
  }
 },
 "nbformat": 4,
 "nbformat_minor": 4
}
