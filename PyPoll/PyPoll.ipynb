{
 "cells": [
  {
   "cell_type": "code",
   "execution_count": 1,
   "metadata": {},
   "outputs": [
    {
     "name": "stdout",
     "output_type": "stream",
     "text": [
      "['Voter ID', 'County', 'Candidate']\n",
      "['12864552', 'Marsh', 'Khan']\n"
     ]
    }
   ],
   "source": [
    "import os\n",
    "import csv\n",
    "\n",
    "csvpath = os.path.join('Resources','election_data.csv')\n",
    "\n",
    "with open(csvpath) as csvfile:\n",
    "    csvreader = csv.reader(csvfile, delimiter =',')\n",
    "    csv_header = next(csvreader)\n",
    "    print(csv_header)\n",
    "    csv_header = next(csvreader)\n",
    "    print(csv_header)\n",
    "    output_path = os.path.join(\"Analysis\",\"Poll_Analysis.txt\")\n",
    "\n",
    "    # Open the file using \"write\" mode. Specify the variable to hold the contents\n",
    "    with open(output_path, 'w') as datafile:\n",
    "\n",
    "        # Initialize csv.writer\n",
    "        csvwriter = csv.writer(csvfile, delimiter=',')\n",
    "\n",
    "        # Write the first row (column headers)\n",
    "        csvwriter.writerow(['First Name', 'Last Name', 'SSN'])\n",
    "\n",
    "        # Write the second row\n",
    "        csvwriter.writerow(['Caleb', 'Frost', '505-80-2901'])"
   ]
  },
  {
   "cell_type": "code",
   "execution_count": null,
   "metadata": {},
   "outputs": [],
   "source": [
    "\n",
    "\n"
   ]
  }
 ],
 "metadata": {
  "kernelspec": {
   "display_name": "Python 3",
   "language": "python",
   "name": "python3"
  },
  "language_info": {
   "codemirror_mode": {
    "name": "ipython",
    "version": 3
   },
   "file_extension": ".py",
   "mimetype": "text/x-python",
   "name": "python",
   "nbconvert_exporter": "python",
   "pygments_lexer": "ipython3",
   "version": "3.7.6"
  }
 },
 "nbformat": 4,
 "nbformat_minor": 4
}
