{
 "cells": [
  {
   "cell_type": "code",
   "execution_count": 1,
   "metadata": {},
   "outputs": [
    {
     "name": "stdout",
     "output_type": "stream",
     "text": [
      "Election Results\n",
      "-------------------------\n",
      "Total Votes: 3521001\n",
      "Khan: 63.0% (2218231)\n",
      "Correy: 20.0% (704200)\n",
      "Li: 14.0% (492940)\n",
      "O'Tooley: 3.0% (105630)\n",
      "-------------------------\n",
      "Winner:Khan\n",
      "-------------------------\n"
     ]
    }
   ],
   "source": [
    "import os\n",
    "import csv\n",
    "\n",
    "totVotes = 0\n",
    "canidates = []\n",
    "candVotes = []\n",
    "csvpath = os.path.join('Resources','election_data.csv')\n",
    "\n",
    "with open(csvpath) as csvfile:\n",
    "    csvreader = csv.reader(csvfile, delimiter =',')\n",
    "    csv_header = next(csvreader)\n",
    "    for row in csvreader:\n",
    "        if row[2] not in canidates:\n",
    "            canidates.append(row[2])\n",
    "            candVotes.append(1)\n",
    "        else:\n",
    "            index = canidates.index(row[2])\n",
    "            candVotes[index] += 1\n",
    "        totVotes += 1\n",
    "        \n",
    "    output_path = os.path.join(\"Analysis\",\"Poll_Analysis.txt\")\n",
    "\n",
    "    # Open the file using \"write\" mode. Specify the variable to hold the contents\n",
    "    with open(output_path, 'w') as datafile:\n",
    "        datafile.write(f'Election Results\\n-------------------------\\nTotal Votes: {totVotes}')\n",
    "        datafile.write('-------------------------')\n",
    "        print(f'Election Results\\n-------------------------\\nTotal Votes: {totVotes}')\n",
    "        datafile.write('-------------------------')\n",
    "        for canid in canidates:\n",
    "            index = canidates.index(canid)\n",
    "            datafile.write(f'{canid}: {round(candVotes[index]/totVotes*100,2)}% ({candVotes[index]})')\n",
    "            print(f'{canid}: {round(candVotes[index]/totVotes*100,2)}% ({candVotes[index]})')\n",
    "        index = candVotes.index(max(candVotes))\n",
    "        datafile.write(f'-------------------------\\nWinner:{canidates[index]}')\n",
    "        print(f'-------------------------\\nWinner:{canidates[index]}')\n",
    "        datafile.write(f'-------------------------')\n",
    "        print(f'-------------------------')\n",
    "# Get the data from the csv file\n",
    "# Create 2 arrays to pair as reference for the canidates\n",
    "# Loop through each row and collect/update data for each variable needed\n",
    "# output to new analysis\n",
    "\n"
   ]
  },
  {
   "cell_type": "code",
   "execution_count": 3,
   "metadata": {},
   "outputs": [
    {
     "name": "stdout",
     "output_type": "stream",
     "text": [
      "Election Results\n",
      "-------------------------\n",
      "Total Votes: 3521001\n",
      "-------------------------\n",
      "Khan: 63.0% (2218231)\n",
      "Correy: 20.0% (704200)\n",
      "Li: 14.0% (492940)\n",
      "O'Tooley: 3.0% (105630)\n",
      "-------------------------\n",
      "Winner:Khan\n",
      "-------------------------\n"
     ]
    }
   ],
   "source": [
    "totVotes = 0\n",
    "canidates = []\n",
    "candVotes = []\n",
    "csvpath = os.path.join('Resources','election_data.csv')\n",
    "\n",
    "canDic = dict()\n",
    "with open(csvpath) as csvfile:\n",
    "    csvreader = csv.reader(csvfile, delimiter =',')\n",
    "    csv_header = next(csvreader)\n",
    "    for row in csvreader:\n",
    "        if row[2] not in canDic:\n",
    "            canDic[row[2]] = 1\n",
    "        else:\n",
    "            canDic[row[2]]+=1\n",
    "        totVotes += 1\n",
    "        \n",
    "    output_path = os.path.join(\"Analysis\",\"Poll_Analysis.txt\")\n",
    "\n",
    "    # Open the file using \"write\" mode. Specify the variable to hold the contents\n",
    "    with open(output_path, 'w') as datafile:\n",
    "        datafile.write(f'Election Results\\n-------------------------\\nTotal Votes: {totVotes}')\n",
    "        datafile.write('-------------------------')\n",
    "        print(f'Election Results\\n-------------------------\\nTotal Votes: {totVotes}')\n",
    "        print('-------------------------')\n",
    "        for canid,value in canDic.items():\n",
    "            datafile.write(f'{canid}: {round(value/totVotes*100,2)}% ({value})')\n",
    "            print(f'{canid}: {round(value/totVotes*100,2)}% ({value})')\n",
    "        datafile.write(f'-------------------------\\nWinner:{max(canDic, key=canDic.get)}')\n",
    "        print(f'-------------------------\\nWinner:{max(canDic, key=canDic.get)}')\n",
    "        datafile.write(f'-------------------------')\n",
    "        print(f'-------------------------')\n",
    "# Get the data from the csv file\n",
    "# Create 2 arrays to pair as reference for the canidates\n",
    "# Loop through each row and collect/update data for each variable needed\n",
    "# output to new analysis"
   ]
  },
  {
   "cell_type": "code",
   "execution_count": null,
   "metadata": {},
   "outputs": [],
   "source": []
  }
 ],
 "metadata": {
  "kernelspec": {
   "display_name": "Python 3",
   "language": "python",
   "name": "python3"
  },
  "language_info": {
   "codemirror_mode": {
    "name": "ipython",
    "version": 3
   },
   "file_extension": ".py",
   "mimetype": "text/x-python",
   "name": "python",
   "nbconvert_exporter": "python",
   "pygments_lexer": "ipython3",
   "version": "3.7.6"
  }
 },
 "nbformat": 4,
 "nbformat_minor": 4
}
